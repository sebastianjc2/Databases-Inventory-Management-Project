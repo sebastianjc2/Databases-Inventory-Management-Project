{
 "cells": [
  {
   "cell_type": "code",
   "execution_count": 6,
   "metadata": {},
   "outputs": [],
   "source": [
    "import ipyvuetify as v\n",
    "import ipywidgets as widgets\n",
    "import pandas as pd\n",
    "import numpy as np\n",
    "import matplotlib.pyplot as plt\n",
    "import requests\n",
    "from IPython.display import display, clear_output"
   ]
  },
  {
   "cell_type": "markdown",
   "metadata": {},
   "source": [
    "### SQLytes Inventory Tracking\n",
    "\n"
   ]
  },
  {
   "cell_type": "code",
   "execution_count": 7,
   "metadata": {},
   "outputs": [],
   "source": [
    "backend = 'http://127.0.0.1:5000/sqlytes/'\n",
    "# output_area = widgets.Output()"
   ]
  },
  {
   "cell_type": "code",
   "execution_count": 8,
   "metadata": {},
   "outputs": [],
   "source": [
    "class WarehouseWidgets:\n",
    "    def __init__(self):\n",
    "        self.output_area = widgets.Output()\n",
    "        self.available_warehouses = self.getAvailableWarehouses()\n",
    "        self.warehouses = self.getAllWarehouses().get('Warehouses')\n",
    "        self.current_warehouse_index = 0\n",
    "        self.all_warehouses_df = pd.DataFrame()\n",
    "       \n",
    "        self.warehouses_options_dropdown = widgets.Select(\n",
    "            options=['All Warehouses info', 'All parts for a warehouse'],\n",
    "            value='All Warehouses info',\n",
    "            description='Search for:',\n",
    "            rows=2,\n",
    "        )\n",
    "        \n",
    "        #self.warehouses_options_dropdown.observe(self.warehouse_options_dropdown_eventhandler, names='value')\n",
    "\n",
    "        self.warehouse_selection = widgets.Dropdown(\n",
    "            options=self.available_warehouses,\n",
    "            value=self.available_warehouses[0],\n",
    "            description=\"Select wid:\"\n",
    "        )\n",
    "        \n",
    "        self.warehouse_selection.observe(self.on_selection_change)\n",
    "        \n",
    "        self.next_warehouse_button = widgets.Button(\n",
    "            description=\"Next Warehouse\",\n",
    "            icon='check'\n",
    "        )\n",
    "        \n",
    "    def getAvailableWarehouses(self):\n",
    "        \"\"\"Return all IDs of the warehouses in the Data Base.\"\"\"\n",
    "        response = requests.get(f'{backend}{\"warehouse\"}')\n",
    "        # List to store all available wid's.\n",
    "        wids = []\n",
    "        # Check if response was succesful.\n",
    "        if response.status_code == 200:\n",
    "            # Parse JSON Data from response.\n",
    "            data = response.json()\n",
    "            for record in data['Warehouses']:\n",
    "                wids.append(record['wid'])\n",
    "        else:\n",
    "            print('Error {}: Could not get data from the backend.'.format(response.status_code))\n",
    "        return wids\n",
    "    \n",
    "    def getAllWarehouses(self):\n",
    "        \"\"\"Return all warehouses in the Data Base.\"\"\"\n",
    "        response = requests.get(f'{backend}{\"warehouse\"}')\n",
    "        # Check if response was succesful.\n",
    "        if response.status_code == 200:\n",
    "            # Parse JSON Data from response.\n",
    "            data = response.json()\n",
    "            return data\n",
    "\n",
    "        print(f'Error {response.status_code}: Could not get data from the backend.')\n",
    "        return {}\n",
    "    \n",
    "    def displayNextWarehouse(self,_):\n",
    "        self.current_warehouse_index = (self.current_warehouse_index+1) % len(self.warehouses)\n",
    "        print(f\"Displaying index {self.current_warehouse_index}\")\n",
    "        selected_warehouse = self.warehouses[self.current_warehouse_index]\n",
    "        print(f\"Displaying Warehouse ID: {selected_warehouse}\")\n",
    "        selected_warehouse_df = pd.DataFrame.from_dict(selected_warehouse, orient=\"index\")\n",
    "        self.all_warehouses_df = selected_warehouse_df\n",
    "        with self.output_area:\n",
    "            clear_output(wait=True)\n",
    "            display(self.all_warehouses_df)\n",
    "            \n",
    "    def getWarehousePartsAPI(self,selected_warehouse):\n",
    "        \"\"\"Obtain all Parts for a warehouse.\n",
    "\n",
    "        Args:\n",
    "            wid (int): ID of the warehouse of which the parts are going to be showed.\n",
    "            endpoint (str): Endpoint to be connected to the backend route to obtain the data.\n",
    "        \"\"\"\n",
    "        endpoint = f'warehouse/{selected_warehouse}/parts'\n",
    "        response = requests.get(f'{backend}{endpoint}')\n",
    "        with self.output_area:\n",
    "            clear_output(wait=True)  # Clear the previous output\n",
    "            if response.status_code == 200: \n",
    "                data = response.json()\n",
    "                all_parts_df = pd.DataFrame(data[\"WarehouseParts\"])\n",
    "                display(all_parts_df)\n",
    "            elif response.status_code == 404:\n",
    "                print('Error {}: Warehouse has no parts'.format(response.status_code))\n",
    "            else:\n",
    "                print(f'{backend}{endpoint}')\n",
    "                print('Error {}: Could not get data from the backend.'.format(response.status_code))\n",
    "                \n",
    "    def on_selection_change(self,change):\n",
    "        if isinstance(change, int):\n",
    "            # Directly received the selected value, not an event dictionary\n",
    "            selected_warehouse = change\n",
    "        elif change['type'] == 'change' and change['name'] == 'value':\n",
    "            # Received an event dictionary, extract the selected value\n",
    "            selected_warehouse = change['new']\n",
    "        else:\n",
    "            # Invalid change, do nothing\n",
    "            return\n",
    "        self.getWarehousePartsAPI(selected_warehouse)\n",
    "    "
   ]
  },
  {
   "cell_type": "markdown",
   "metadata": {},
   "source": [
    "### Select Warehouse to search the parts for"
   ]
  },
  {
   "cell_type": "code",
   "execution_count": 9,
   "metadata": {},
   "outputs": [],
   "source": [
    "warehouseWidgets = WarehouseWidgets()"
   ]
  },
  {
   "cell_type": "code",
   "execution_count": 10,
   "metadata": {},
   "outputs": [],
   "source": [
    "# warehouseWidgets.warehouses_options_dropdown.observe(warehouseWidgets.warehouse_options_handler,names='value')"
   ]
  },
  {
   "cell_type": "code",
   "execution_count": 11,
   "metadata": {},
   "outputs": [],
   "source": [
    "# Display the dropdown initially\n",
    "#display(warehouseWidgets.warehouses_options_dropdown)"
   ]
  },
  {
   "cell_type": "code",
   "execution_count": 12,
   "metadata": {},
   "outputs": [
    {
     "data": {
      "application/vnd.jupyter.widget-view+json": {
       "model_id": "14023bcf98e549469c358b7060f72599",
       "version_major": 2,
       "version_minor": 0
      },
      "text/plain": [
       "Dropdown(description='Select wid:', options=(1, 2, 3, 4, 5, 6, 7, 8, 9, 10, 11, 12, 13, 14), value=1)"
      ]
     },
     "metadata": {},
     "output_type": "display_data"
    },
    {
     "data": {
      "application/vnd.jupyter.widget-view+json": {
       "model_id": "854056c3f9ce457b825d1a542cb48faa",
       "version_major": 2,
       "version_minor": 0
      },
      "text/plain": [
       "Output()"
      ]
     },
     "metadata": {},
     "output_type": "display_data"
    }
   ],
   "source": [
    "warehouseWidgets.getWarehousePartsAPI(warehouseWidgets.warehouse_selection.value)\n",
    "warehouseWidgets.warehouse_selection.observe(warehouseWidgets.on_selection_change)\n",
    "display(warehouseWidgets.warehouse_selection)\n",
    "display(warehouseWidgets.output_area)"
   ]
  },
  {
   "cell_type": "code",
   "execution_count": 13,
   "metadata": {},
   "outputs": [],
   "source": [
    "# display(warehouseWidgets.warehouses_options_dropdown)"
   ]
  },
  {
   "cell_type": "code",
   "execution_count": 14,
   "metadata": {},
   "outputs": [],
   "source": [
    "# warehouseWidgets.displayNextWarehouse(_)"
   ]
  },
  {
   "cell_type": "code",
   "execution_count": 15,
   "metadata": {},
   "outputs": [],
   "source": [
    "# # Attach the function to the button's click event\n",
    "# button = warehouseWidgets.next_warehouse_button\n",
    "# button.on_click(warehouseWidgets.displayNextWarehouse)\n",
    "\n",
    "# # Display the widgets\n",
    "# display(warehouseWidgets.output_area)\n",
    "# display(button)"
   ]
  },
  {
   "cell_type": "code",
   "execution_count": 19,
   "metadata": {
    "collapsed": false
   },
   "outputs": [],
   "source": [
    "class SuppliedPartsWidgets:\n",
    "    def __init__(self):\n",
    "        self.output_area = widgets.Output()\n",
    "        self.available_suppliers = self.getAvailableSuppliers()\n",
    "        self.suppliers = self.getAllSuppliers()\n",
    "        self.current_supplier_index = 0\n",
    "        self.all_suppliers_df = pd.DataFrame()\n",
    "       \n",
    "        self.suppliers_options_dropdown = widgets.Select(\n",
    "            options=['All Suppliers info', 'All parts supplied by this supplier'],\n",
    "            value='All Suppliers info',\n",
    "            description='Search for:',\n",
    "            rows=2,\n",
    "        )\n",
    "\n",
    "        self.supplier_selection = widgets.Dropdown(\n",
    "            options=self.available_suppliers,\n",
    "            value=self.available_suppliers[0],\n",
    "            description=\"Select sid:\"\n",
    "        )\n",
    "        \n",
    "        self.supplier_selection.observe(self.on_selection_change)\n",
    "        \n",
    "        self.next_supplier_button = widgets.Button(\n",
    "            description=\"Next Supplier\",\n",
    "            icon='check'\n",
    "        )\n",
    "        \n",
    "    def getAvailableSuppliers(self):\n",
    "        \"\"\"Return all IDs of the suppliers in the Data Base.\"\"\"\n",
    "        response = requests.get(f'{backend}{\"supplier\"}')\n",
    "        # List to store all available sid's.\n",
    "        sids = []\n",
    "        # Check if response was succesful.\n",
    "        if response.status_code == 200:\n",
    "            # Parse JSON Data from response.\n",
    "            data = response.json()\n",
    "            for record in data:\n",
    "                sids.append(record['id'])\n",
    "        else:\n",
    "            print('Error {}: Could not get data from the backend.'.format(response.status_code))\n",
    "        return sids\n",
    "    \n",
    "    def getAllSuppliers(self):\n",
    "        \"\"\"Return all suppliers in the Data Base.\"\"\"\n",
    "        response = requests.get(f'{backend}{\"supplier\"}')\n",
    "        # Check if response was succesful.\n",
    "        if response.status_code == 200:\n",
    "            # Parse JSON Data from response.\n",
    "            data = response.json()\n",
    "            return data\n",
    "\n",
    "        print(f'Error {response.status_code}: Could not get data from the backend.')\n",
    "        return {}\n",
    "    \n",
    "    def displayNextSupplier(self,_):\n",
    "        self.current_supplier_index = (self.current_supplier_index+1) % len(self.suppliers)\n",
    "        print(f\"Displaying index {self.current_supplier_index}\")\n",
    "        selected_supplier = self.suppliers[self.current_supplier_index]\n",
    "        print(f\"Displaying Warehouse ID: {selected_supplier}\")\n",
    "        selected_supplier_df = pd.DataFrame.from_dict(selected_supplier, orient=\"index\")\n",
    "        self.all_suppliers_df = selected_supplier_df\n",
    "        with self.output_area:\n",
    "            clear_output(wait=True)\n",
    "            display(self.all_suppliers_df)\n",
    "            \n",
    "    def getSuppliedPartsAPI(self,selected_supplier):\n",
    "        \"\"\"Obtain all Parts for a warehouse.\n",
    "\n",
    "        Args:\n",
    "            wid (int): ID of the warehouse of which the parts are going to be showed.\n",
    "            endpoint (str): Endpoint to be connected to the backend route to obtain the data.\n",
    "        \"\"\"\n",
    "        endpoint = f'supplies/{selected_supplier}'\n",
    "        response = requests.get(f'{backend}{endpoint}')\n",
    "        with self.output_area:\n",
    "            clear_output(wait=True)  # Clear the previous output\n",
    "            if response.status_code == 200: \n",
    "                data = response.json()\n",
    "                supplied_parts_df = pd.DataFrame(data)\n",
    "                display(supplied_parts_df)\n",
    "            elif response.status_code == 404:\n",
    "                print('Error {}: Supplier does not supply any parts'.format(response.status_code))\n",
    "            else:\n",
    "                print(f'{backend}{endpoint}')\n",
    "                print('Error {}: Could not get data from the backend.'.format(response.status_code))\n",
    "                \n",
    "    def on_selection_change(self,change):\n",
    "        if isinstance(change, int):\n",
    "            # Directly received the selected value, not an event dictionary\n",
    "            selected_supplier = change\n",
    "        elif change['type'] == 'change' and change['name'] == 'value':\n",
    "            # Received an event dictionary, extract the selected value\n",
    "            selected_supplier = change['new']\n",
    "        else:\n",
    "            # Invalid change, do nothing\n",
    "            return\n",
    "        self.getSuppliedPartsAPI(selected_supplier)\n"
   ]
  },
  {
   "cell_type": "markdown",
   "metadata": {
    "collapsed": false
   },
   "source": [
    "### Select supplier to search the parts it supplies"
   ]
  },
  {
   "cell_type": "code",
   "execution_count": 17,
   "metadata": {
    "collapsed": false
   },
   "outputs": [],
   "source": [
    "suppliedPartsWidgets = SuppliedPartsWidgets()"
   ]
  },
  {
   "cell_type": "code",
   "execution_count": 18,
   "metadata": {
    "collapsed": false
   },
   "outputs": [
    {
     "data": {
      "application/vnd.jupyter.widget-view+json": {
       "model_id": "ef870cb64c58437684de3e7c1eabdac9",
       "version_major": 2,
       "version_minor": 0
      },
      "text/plain": [
       "Dropdown(description='Select sid:', options=(1, 2, 3, 4, 5, 6, 7), value=1)"
      ]
     },
     "metadata": {},
     "output_type": "display_data"
    },
    {
     "data": {
      "application/vnd.jupyter.widget-view+json": {
       "model_id": "de48deac454f4e5e8f0937291fa5e6da",
       "version_major": 2,
       "version_minor": 0
      },
      "text/plain": [
       "Output()"
      ]
     },
     "metadata": {},
     "output_type": "display_data"
    }
   ],
   "source": [
    "suppliedPartsWidgets.getSuppliedPartsAPI(suppliedPartsWidgets.supplier_selection.value)\n",
    "suppliedPartsWidgets.supplier_selection.observe(suppliedPartsWidgets.on_selection_change)\n",
    "display(suppliedPartsWidgets.supplier_selection)\n",
    "display(suppliedPartsWidgets.output_area)"
   ]
  },
  {
   "cell_type": "code",
   "execution_count": null,
   "metadata": {},
   "outputs": [],
   "source": [
    "class TransactionWidgets:\n",
    "    def __init__(self):\n",
    "        self.output_area = widgets.Output()\n",
    "        self.available_warehouses = self.getAvailableSuppliers()\n",
    "        self.suppliers = self.getAllSuppliers()\n",
    "        self.current_warehouse_index = 0\n",
    "        self.all_transactions_df = pd.DataFrame()\n",
    "       \n",
    "        self.warehouse_options_dropdown = widgets.Select(\n",
    "            options=['All Warehouses info', 'All transactions in this warehouse'],\n",
    "            value='All Warehouses info',\n",
    "            description='Search for:',\n",
    "            rows=2,\n",
    "        )\n",
    "\n",
    "        self.warehouse_selection = widgets.Dropdown(\n",
    "            options=self.available_warehouses,\n",
    "            value=self.available_warehouses[0],\n",
    "            description=\"Select sid:\"\n",
    "        )\n",
    "        \n",
    "        self.warehouse_selection.observe(self.on_selection_change)\n",
    "        \n",
    "        self.next_warehouse_button = widgets.Button(\n",
    "            description=\"Next Warehouse\",\n",
    "            icon='check'\n",
    "        )\n",
    "        \n",
    "\n",
    "    def getAvailableWarehouses(self):\n",
    "        \"\"\"\n",
    "        Return all IDs of the warehouses in the DB\n",
    "        \"\"\"\n",
    "        response = requests.get(f'{backend}{\"warehouse\"}')\n",
    "        # List to store all available sid's.\n",
    "        wids = []\n",
    "        # Check if response was succesful.\n",
    "        if response.status_code == 200:\n",
    "            # Parse JSON Data from response.\n",
    "            data = response.json()\n",
    "            for record in data:\n",
    "                wids.append(record['id'])\n",
    "        else:\n",
    "            print('Error {}: Could not get data from the backend.'.format(response.status_code))\n",
    "        return wids\n",
    "\n",
    "    \n",
    "    # def getAllWarehouses(self):\n",
    "    #     \"\"\"\n",
    "    #     Return all suppliers in the Data Base.\n",
    "    #     \"\"\"\n",
    "    #     response = requests.get(f'{backend}{\"supplier\"}')\n",
    "    #     # Check if response was succesful.\n",
    "    #     if response.status_code == 200:\n",
    "    #         # Parse JSON Data from response.\n",
    "    #         data = response.json()\n",
    "    #         return data\n",
    "\n",
    "    #     print(f'Error {response.status_code}: Could not get data from the backend.')\n",
    "    #     return {}\n",
    "    \n",
    "    def displayNextSupplier(self,_):\n",
    "        self.current_supplier_index = (self.current_supplier_index+1) % len(self.suppliers)\n",
    "        print(f\"Displaying index {self.current_supplier_index}\")\n",
    "        selected_supplier = self.suppliers[self.current_supplier_index]\n",
    "        print(f\"Displaying Warehouse ID: {selected_supplier}\")\n",
    "        selected_supplier_df = pd.DataFrame.from_dict(selected_supplier, orient=\"index\")\n",
    "        self.all_suppliers_df = selected_supplier_df\n",
    "        with self.output_area:\n",
    "            clear_output(wait=True)\n",
    "            display(self.all_suppliers_df)\n",
    "            \n",
    "    def getSuppliedPartsAPI(self,selected_supplier):\n",
    "        \"\"\"Obtain all Parts for a warehouse.\n",
    "\n",
    "        Args:\n",
    "            wid (int): ID of the warehouse of which the parts are going to be showed.\n",
    "            endpoint (str): Endpoint to be connected to the backend route to obtain the data.\n",
    "        \"\"\"\n",
    "        endpoint = f'supplies/{selected_supplier}'\n",
    "        response = requests.get(f'{backend}{endpoint}')\n",
    "        with self.output_area:\n",
    "            clear_output(wait=True)  # Clear the previous output\n",
    "            if response.status_code == 200: \n",
    "                data = response.json()\n",
    "                supplied_parts_df = pd.DataFrame(data)\n",
    "                display(supplied_parts_df)\n",
    "            elif response.status_code == 404:\n",
    "                print('Error {}: Supplier does not supply any parts'.format(response.status_code))\n",
    "            else:\n",
    "                print(f'{backend}{endpoint}')\n",
    "                print('Error {}: Could not get data from the backend.'.format(response.status_code))\n",
    "                \n",
    "    def on_selection_change(self,change):\n",
    "        if isinstance(change, int):\n",
    "            # Directly received the selected value, not an event dictionary\n",
    "            selected_supplier = change\n",
    "        elif change['type'] == 'change' and change['name'] == 'value':\n",
    "            # Received an event dictionary, extract the selected value\n",
    "            selected_supplier = change['new']\n",
    "        else:\n",
    "            # Invalid change, do nothing\n",
    "            return\n",
    "        self.getSuppliedPartsAPI(selected_supplier)\n"
   ]
  }
 ],
 "metadata": {
  "kernelspec": {
   "display_name": "sqlytes",
   "language": "python",
   "name": "python3"
  },
  "language_info": {
   "codemirror_mode": {
    "name": "ipython",
    "version": 3
   },
   "file_extension": ".py",
   "mimetype": "text/x-python",
   "name": "python",
   "nbconvert_exporter": "python",
   "pygments_lexer": "ipython3",
   "version": "3.10.10"
  }
 },
 "nbformat": 4,
 "nbformat_minor": 2
}
