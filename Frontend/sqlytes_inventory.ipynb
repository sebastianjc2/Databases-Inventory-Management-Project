{
 "cells": [
  {
   "cell_type": "code",
   "execution_count": null,
   "metadata": {},
   "outputs": [],
   "source": [
    "import ipyvuetify as v\n",
    "import ipywidgets as widgets\n",
    "import pandas as pd\n",
    "import numpy as np\n",
    "import matplotlib.pyplot as plt\n",
    "import requests\n",
    "from IPython.display import display, clear_output"
   ]
  },
  {
   "cell_type": "markdown",
   "metadata": {},
   "source": [
    "### SQLytes Inventory Tracking\n",
    "\n"
   ]
  },
  {
   "cell_type": "code",
   "execution_count": null,
   "metadata": {},
   "outputs": [],
   "source": [
    "backend = 'http://127.0.0.1:5000/sqlytes/'\n",
    "# output_area = widgets.Output()"
   ]
  },
  {
   "cell_type": "code",
   "execution_count": null,
   "metadata": {},
   "outputs": [],
   "source": [
    "class WarehouseWidgets:\n",
    "    def __init__(self):\n",
    "        self.output_area = widgets.Output()\n",
    "        self.available_warehouses = self.getAvailableWarehouses()\n",
    "        self.warehouses = self.getAllWarehouses().get('Warehouses')\n",
    "        self.current_warehouse_index = 0\n",
    "        self.all_warehouses_df = pd.DataFrame()\n",
    "       \n",
    "        self.warehouses_options_dropdown = widgets.Select(\n",
    "            options=['All Warehouses info', 'All parts for a warehouse'],\n",
    "            value='All Warehouses info',\n",
    "            description='Search for:',\n",
    "            rows=2,\n",
    "        )\n",
    "        \n",
    "        #self.warehouses_options_dropdown.observe(self.warehouse_options_dropdown_eventhandler, names='value')\n",
    "\n",
    "        self.warehouse_selection = widgets.Dropdown(\n",
    "            options=self.available_warehouses,\n",
    "            value=self.available_warehouses[0],\n",
    "            description=\"Select wid:\"\n",
    "        )\n",
    "        \n",
    "        self.warehouse_selection.observe(self.on_selection_change)\n",
    "        \n",
    "        self.next_warehouse_button = widgets.Button(\n",
    "            description=\"Next Warehouse\",\n",
    "            icon='check'\n",
    "        )\n",
    "        \n",
    "    def getAvailableWarehouses(self):\n",
    "        \"\"\"Return all IDs of the warehouses in the Data Base.\"\"\"\n",
    "        response = requests.get(f'{backend}{\"warehouse\"}')\n",
    "        # List to store all available wid's.\n",
    "        wids = []\n",
    "        # Check if response was succesful.\n",
    "        if response.status_code == 200:\n",
    "            # Parse JSON Data from response.\n",
    "            data = response.json()\n",
    "            for record in data['Warehouses']:\n",
    "                wids.append(record['wid'])\n",
    "        else:\n",
    "            print('Error {}: Could not get data from the backend.'.format(response.status_code))\n",
    "        return wids\n",
    "    \n",
    "    def getAllWarehouses(self):\n",
    "        \"\"\"Return all warehouses in the Data Base.\"\"\"\n",
    "        response = requests.get(f'{backend}{\"warehouse\"}')\n",
    "        # Check if response was succesful.\n",
    "        if response.status_code == 200:\n",
    "            # Parse JSON Data from response.\n",
    "            data = response.json()\n",
    "            return data\n",
    "\n",
    "        print(f'Error {response.status_code}: Could not get data from the backend.')\n",
    "        return {}\n",
    "    \n",
    "    def displayNextWarehouse(self,_):\n",
    "        self.current_warehouse_index = (self.current_warehouse_index+1) % len(self.warehouses)\n",
    "        print(f\"Displaying index {self.current_warehouse_index}\")\n",
    "        selected_warehouse = self.warehouses[self.current_warehouse_index]\n",
    "        print(f\"Displaying Warehouse ID: {selected_warehouse}\")\n",
    "        selected_warehouse_df = pd.DataFrame.from_dict(selected_warehouse, orient=\"index\")\n",
    "        self.all_warehouses_df = selected_warehouse_df\n",
    "        with self.output_area:\n",
    "            clear_output(wait=True)\n",
    "            display(self.all_warehouses_df)\n",
    "            \n",
    "    def getWarehousePartsAPI(self,selected_warehouse):\n",
    "        \"\"\"Obtain all Parts for a warehouse.\n",
    "\n",
    "        Args:\n",
    "            wid (int): ID of the warehouse of which the parts are going to be showed.\n",
    "            endpoint (str): Endpoint to be connected to the backend route to obtain the data.\n",
    "        \"\"\"\n",
    "        endpoint = f'warehouse/{selected_warehouse}/parts'\n",
    "        response = requests.get(f'{backend}{endpoint}')\n",
    "        with self.output_area:\n",
    "            clear_output(wait=True)  # Clear the previous output\n",
    "            if response.status_code == 200: \n",
    "                data = response.json()\n",
    "                all_parts_df = pd.DataFrame(data[\"WarehouseParts\"])\n",
    "                display(all_parts_df)\n",
    "            elif response.status_code == 404:\n",
    "                print('Error {}: Warehouse has no parts'.format(response.status_code))\n",
    "            else:\n",
    "                print(f'{backend}{endpoint}')\n",
    "                print('Error {}: Could not get data from the backend.'.format(response.status_code))\n",
    "                \n",
    "    def on_selection_change(self,change):\n",
    "        if isinstance(change, int):\n",
    "            # Directly received the selected value, not an event dictionary\n",
    "            selected_warehouse = change\n",
    "        elif change['type'] == 'change' and change['name'] == 'value':\n",
    "            # Received an event dictionary, extract the selected value\n",
    "            selected_warehouse = change['new']\n",
    "        else:\n",
    "            # Invalid change, do nothing\n",
    "            return\n",
    "        self.getWarehousePartsAPI(selected_warehouse)\n",
    "    "
   ]
  },
  {
   "cell_type": "markdown",
   "metadata": {},
   "source": [
    "### Select Warehouse to search the parts for"
   ]
  },
  {
   "cell_type": "code",
   "execution_count": null,
   "metadata": {},
   "outputs": [],
   "source": [
    "warehouseWidgets = WarehouseWidgets()"
   ]
  },
  {
   "cell_type": "code",
   "execution_count": null,
   "metadata": {},
   "outputs": [],
   "source": [
    "# warehouseWidgets.warehouses_options_dropdown.observe(warehouseWidgets.warehouse_options_handler,names='value')"
   ]
  },
  {
   "cell_type": "code",
   "execution_count": null,
   "metadata": {},
   "outputs": [],
   "source": [
    "# Display the dropdown initially\n",
    "#display(warehouseWidgets.warehouses_options_dropdown)"
   ]
  },
  {
   "cell_type": "code",
   "execution_count": null,
   "metadata": {},
   "outputs": [],
   "source": [
    "warehouseWidgets.getWarehousePartsAPI(warehouseWidgets.warehouse_selection.value)\n",
    "warehouseWidgets.warehouse_selection.observe(warehouseWidgets.on_selection_change)\n",
    "display(warehouseWidgets.warehouse_selection)\n",
    "display(warehouseWidgets.output_area)"
   ]
  },
  {
   "cell_type": "code",
   "execution_count": null,
   "metadata": {},
   "outputs": [],
   "source": [
    "# display(warehouseWidgets.warehouses_options_dropdown)"
   ]
  },
  {
   "cell_type": "code",
   "execution_count": null,
   "metadata": {},
   "outputs": [],
   "source": [
    "# warehouseWidgets.displayNextWarehouse(_)"
   ]
  },
  {
   "cell_type": "code",
   "execution_count": null,
   "metadata": {},
   "outputs": [],
   "source": [
    "# # Attach the function to the button's click event\n",
    "# button = warehouseWidgets.next_warehouse_button\n",
    "# button.on_click(warehouseWidgets.displayNextWarehouse)\n",
    "\n",
    "# # Display the widgets\n",
    "# display(warehouseWidgets.output_area)\n",
    "# display(button)"
   ]
  }
 ],
 "metadata": {
  "kernelspec": {
   "display_name": "sqlytes",
   "language": "python",
   "name": "python3"
  },
  "language_info": {
   "codemirror_mode": {
    "name": "ipython",
    "version": 3
   },
   "file_extension": ".py",
   "mimetype": "text/x-python",
   "name": "python",
   "nbconvert_exporter": "python",
   "pygments_lexer": "ipython3",
   "version": "3.10.13"
  }
 },
 "nbformat": 4,
 "nbformat_minor": 2
}
