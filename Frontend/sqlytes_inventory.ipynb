{
 "cells": [
  {
   "cell_type": "code",
   "execution_count": 190,
   "metadata": {},
   "outputs": [],
   "source": [
    "import ipyvuetify as v\n",
    "import ipywidgets as widgets\n",
    "import pandas as pd\n",
    "import numpy as np\n",
    "import matplotlib.pyplot as plt\n",
    "import requests\n",
    "from IPython.display import display, clear_output"
   ]
  },
  {
   "cell_type": "markdown",
   "metadata": {},
   "source": [
    "### SQLytes Inventory Tracking\n",
    "\n"
   ]
  },
  {
   "cell_type": "code",
   "execution_count": 191,
   "metadata": {},
   "outputs": [],
   "source": [
    "# URL for localhost backend when using Docker.\n",
    "backend = 'http://127.0.0.1:5000/sqlytes/'"
   ]
  },
  {
   "cell_type": "code",
   "execution_count": 192,
   "metadata": {},
   "outputs": [],
   "source": [
    "def getAvailableWarehouses():\n",
    "    \"\"\"Return all IDs of the warehouses in the Data Base.\"\"\"\n",
    "    response = requests.get(f'{backend}{\"warehouse\"}')\n",
    "    # List to store all available wid's.\n",
    "    wids = []\n",
    "    # Check if response was succesful.\n",
    "    if response.status_code == 200:\n",
    "        # Parse JSON Data from response.\n",
    "        data = response.json()\n",
    "        for record in data['Warehouses']:\n",
    "            wids.append(record['wid'])\n",
    "    else:\n",
    "        print('Error {}: Could not get data from the backend.'.format(response.status_code))\n",
    "    return wids"
   ]
  },
  {
   "cell_type": "code",
   "execution_count": 193,
   "metadata": {},
   "outputs": [],
   "source": [
    "available_warehouses = getAvailableWarehouses()"
   ]
  },
  {
   "cell_type": "code",
   "execution_count": 194,
   "metadata": {},
   "outputs": [],
   "source": [
    "# print(\"Available Warehouse IDs: \",getAvailableWarehouses())"
   ]
  },
  {
   "cell_type": "markdown",
   "metadata": {},
   "source": [
    "### Choose observation to make with warehouses"
   ]
  },
  {
   "cell_type": "code",
   "execution_count": 195,
   "metadata": {},
   "outputs": [
    {
     "data": {
      "application/vnd.jupyter.widget-view+json": {
       "model_id": "1bf9a500e5694e4f9643911ebe2e3ed1",
       "version_major": 2,
       "version_minor": 0
      },
      "text/plain": [
       "Select(description='Search for:', options=('All Warehouses info', 'All parts for a warehouse', 'Warehouses sor…"
      ]
     },
     "execution_count": 195,
     "metadata": {},
     "output_type": "execute_result"
    }
   ],
   "source": [
    "options = ['All Warehouses info',\n",
    "           'All parts for a warehouse',\n",
    "           'Warehouses sorted by name',\n",
    "           'Warehouses sorted by capacity']\n",
    "\n",
    "widgets.Select(\n",
    "    options=options,\n",
    "    value='All Warehouses info',\n",
    "    description='Search for:',\n",
    "    rows=4,\n",
    "    disabled=False\n",
    ")"
   ]
  },
  {
   "cell_type": "markdown",
   "metadata": {},
   "source": [
    "### Choose a Warehouse ID to get all Parts from."
   ]
  },
  {
   "cell_type": "code",
   "execution_count": 196,
   "metadata": {},
   "outputs": [
    {
     "data": {
      "application/vnd.jupyter.widget-view+json": {
       "model_id": "3824fc487ec74d6b8b31b3512fdaf64c",
       "version_major": 2,
       "version_minor": 0
      },
      "text/plain": [
       "Dropdown(description='wid', options=(2, 3, 4, 5, 6, 7, 8, 10, 11, 12, 13, 15, 9, 1), value=2)"
      ]
     },
     "metadata": {},
     "output_type": "display_data"
   "execution_count": 211,
   "metadata": {},
   "outputs": [
    {
     "name": "stdout",
     "output_type": "stream",
     "text": [
      "Selected Warehouse: 3\n"
     ]
    },
    {
     "name": "stdout",
     "output_type": "stream",
     "text": [
      "Selected Warehouse: 6\n"
     ]
    },
    {
     "name": "stdout",
     "output_type": "stream",
     "text": [
      "Selected Warehouse: 8\n"
     ]
    },
    {
     "name": "stdout",
     "output_type": "stream",
     "text": [
      "Selected Warehouse: 11\n"
     ]
    }
   ],
   "source": [
    "selection = widgets.Dropdown(\n",
    "    options = available_warehouses,\n",
    "    value = available_warehouses[0],\n",
    "    description=\"wid\"\n",
    ")\n",
    "display(selection)"
    ")"
   ]
  },
  {
   "cell_type": "code",
   "execution_count": 197,
   "metadata": {},
   "outputs": [],
   "source": [
    "output_area = widgets.Output()"
   ]
  },
  {
   "cell_type": "code",
   "execution_count": 198,
   "metadata": {},
   "outputs": [],
   "source": [
    "def getAllWarehouses():\n",
    "    \"\"\"Return all warehouses in the Data Base.\"\"\"\n",
    "    response = requests.get(f'{backend}{\"warehouse\"}')\n",
    "    # Check if response was succesful.\n",
    "    if response.status_code == 200:\n",
    "        # Parse JSON Data from response.\n",
    "        data = response.json()\n",
    "    else:\n",
    "        print('Error {}: Could not get data from the backend.'.format(response.status_code))\n",
    "    return data"
   ]
  },
  {
   "cell_type": "code",
   "execution_count": 199,
   "metadata": {},
   "outputs": [],
   "source": [
    "warehouses = getAllWarehouses()['Warehouses']\n",
    "current_index = 0\n",
    "all_warehouses_df = pd.DataFrame()\n",
    "# print(warehouses)"
   ]
  },
  {
   "cell_type": "code",
   "execution_count": 200,
   "metadata": {},
   "outputs": [],
   "source": [
    "def displayNextWarehouse(_):\n",
    "    global current_index\n",
    "    global all_warehouses_df\n",
    "    current_index = (current_index+1) % len(warehouses)\n",
    "    selected_warehouse = warehouses[current_index]\n",
    "    # print(f\"Displaying Warehouse ID: {selected_warehouse}\")\n",
    "    selected_warehouse_df = pd.DataFrame.from_dict(selected_warehouse, orient=\"index\")\n",
    "    all_warehouses_df = selected_warehouse_df\n",
    "    with output_area:\n",
    "        clear_output(wait=True)\n",
    "        display(all_warehouses_df)"
   ]
  },
  {
   "cell_type": "code",
   "execution_count": 201,
   "metadata": {},
   "outputs": [],
   "source": [
    "displayNextWarehouse(_)"
   ]
  },
  {
   "cell_type": "code",
   "execution_count": 202,
   "metadata": {},
   "outputs": [],
   "source": [
    "def getWarehousePartsAPI(selected_warehouse):\n",
    "    \"\"\"Obtain all Parts for a warehouse.\n",
    "\n",
    "    Args:\n",
    "        wid (int): ID of the warehouse of which the parts are going to be showed.\n",
    "        endpoint (str): Endpoint to be connected to the backend route to obtain the data.\n",
    "    \"\"\"\n",
    "    endpoint = f'warehouse/{selected_warehouse}/parts'\n",
    "    response = requests.get(f'{backend}{endpoint}')\n",
    "    with output_area:\n",
    "        clear_output(wait=True)  # Clear the previous output\n",
    "        if response.status_code == 200:\n",
    "            data = response.json()\n",
    "            all_parts_df = pd.DataFrame(data[\"WarehouseParts\"])\n",
    "            display(all_parts_df)\n",
    "        elif response.status_code == 404:\n",
    "            print('Error {}: Warehouse has no parts'.format(response.status_code))\n",
    "        else:\n",
    "            print(f'{backend}{endpoint}')\n",
    "            print('Error {}: Could not get data from the backend.'.format(response.status_code))"
   ]
  },
  {
   "cell_type": "code",
   "execution_count": 214,
   "metadata": {},
   "outputs": [],
   "source": [
    "# getWarehousePartsAPI(selection.value)"
   ]
  },
  {
   "cell_type": "code",
   "execution_count": 215,
   "metadata": {},
   "outputs": [],
   "source": [
    "def on_selection_change(change):\n",
    "    if isinstance(change, int):\n",
    "        # Directly received the selected value, not an event dictionary\n",
    "        selected_warehouse = change\n",
    "    elif change['type'] == 'change' and change['name'] == 'value':\n",
    "        # Received an event dictionary, extract the selected value\n",
    "        selected_warehouse = change['new']\n",
    "    else:\n",
    "        # Invalid change, do nothing\n",
    "        return\n",
    "    getWarehousePartsAPI(selected_warehouse)"
   ]
  },
  {
   "cell_type": "code",
   "execution_count": 204,
   "metadata": {},
   "outputs": [],
   "source": [
    "# Button widget for next warehouse\n",
    "next_button = widgets.Button(description=\"Next Warehouse\")"
   ]
  },
  {
   "cell_type": "code",
   "execution_count": 207,
   "metadata": {},
   "outputs": [],
   "source": [
    "# Trigger on_selection_change with the default value\n",
    "on_selection_change(selection.value)\n",
    "# Attach the function to the next button's click event\n",
    "next_button.on_click(displayNextWarehouse)"
   ]
  },
  {
   "cell_type": "markdown",
   "metadata": {},
   "source": [
    "### Choose Next warehouse to observe"
=======
   "execution_count": 216,
   "metadata": {},
   "outputs": [
    {
     "name": "stdout",
     "output_type": "stream",
     "text": [
      "Selected Warehouse: 2\n"
     ]
    }
   ],
   "source": [
    "# Trigger on_selection_change with the default value\n",
    "on_selection_change(selection.value)"
   ]
  },
  {
   "cell_type": "code",
   "execution_count": 217,
   "metadata": {},
   "outputs": [
    {
     "data": {
      "application/vnd.jupyter.widget-view+json": {
       "model_id": "146a41d9ade44b78800a3e98c9782f56",
       "version_major": 2,
       "version_minor": 0
      },
      "text/plain": [
       "Button(description='Next Warehouse', style=ButtonStyle())"
       "Dropdown(description='wid', options=(2, 3, 4, 5, 6, 7, 8, 10, 11, 12, 13, 15, 9, 1), value=2)"
      ]
     },
     "metadata": {},
     "output_type": "display_data"
    },
    {
     "data": {
      "application/vnd.jupyter.widget-view+json": {
       "model_id": "0b7a02d307334cc38a1ecde9b2624a42",
       "version_major": 2,
       "version_minor": 0
      },
      "text/plain": [
       "Output(outputs=({'output_type': 'display_data', 'data': {'text/plain': '    Color Material         Name  id   …"
      ]
     },
     "metadata": {},
     "output_type": "display_data"
    }
   ],
   "source": [
    "# Attach the function to the widget's value change event\n",
    "selection.observe(on_selection_change)\n",
    "# display(selection)\n",
    "display(next_button)\n",
    "display(output_area)"
   ]
  }
 ],
 "metadata": {
  "kernelspec": {
   "display_name": "sqlytes",
   "language": "python",
   "name": "python3"
  },
  "language_info": {
   "codemirror_mode": {
    "name": "ipython",
    "version": 3
   },
   "file_extension": ".py",
   "mimetype": "text/x-python",
   "name": "python",
   "nbconvert_exporter": "python",
   "pygments_lexer": "ipython3",
   "version": "3.10.13"
  }
 },
 "nbformat": 4,
 "nbformat_minor": 2
}
