{
 "cells": [
  {
   "cell_type": "code",
   "execution_count": 53,
   "metadata": {},
   "outputs": [],
   "source": [
    "import ipyvuetify as v\n",
    "import ipywidgets as widgets\n",
    "import pandas as pd\n",
    "import numpy as np\n",
    "import matplotlib.pyplot as plt\n",
    "import requests\n",
    "from IPython.display import display, clear_output\n",
    "import json"
   ]
  },
  {
   "cell_type": "markdown",
   "metadata": {},
   "source": [
    "### SQLytes Inventory Tracking\n",
    "\n"
   ]
  },
  {
   "cell_type": "code",
   "execution_count": 54,
   "metadata": {},
   "outputs": [],
   "source": [
    "backend = 'http://127.0.0.1:5000/sqlytes/'\n",
    "# output_area = widgets.Output()"
   ]
  },
  {
   "cell_type": "markdown",
   "metadata": {},
   "source": [
    "### Select Warehouse to search the parts for"
   ]
  },
  {
   "cell_type": "code",
   "execution_count": 56,
   "metadata": {},
   "outputs": [],
   "source": [
    "warehouseWidgets = WarehouseWidgets()"
   ]
  },
  {
   "cell_type": "code",
   "execution_count": 57,
   "metadata": {},
   "outputs": [],
   "source": [
    "# warehouseWidgets.warehouses_options_dropdown.observe(warehouseWidgets.warehouse_options_handler,names='value')"
   ]
  },
  {
   "cell_type": "code",
   "execution_count": 58,
   "metadata": {},
   "outputs": [],
   "source": [
    "# Display the dropdown initially\n",
    "#display(warehouseWidgets.warehouses_options_dropdown)"
   ]
  },
  {
   "cell_type": "code",
   "execution_count": 59,
   "metadata": {},
   "outputs": [
    {
     "data": {
      "application/vnd.jupyter.widget-view+json": {
       "model_id": "918130a379b64f739bfe2e35b3b4502a",
       "version_major": 2,
       "version_minor": 0
      },
      "text/plain": [
       "Dropdown(description='Select wid:', options=(3, 4, 5, 6, 7, 8, 10, 11, 12, 13, 14, 1, 9, 2), value=3)"
      ]
     },
     "metadata": {},
     "output_type": "display_data"
    },
    {
     "data": {
      "application/vnd.jupyter.widget-view+json": {
       "model_id": "4892d02076ad49c2b2ac61d6d1c02769",
       "version_major": 2,
       "version_minor": 0
      },
      "text/plain": [
       "Output()"
      ]
     },
     "metadata": {},
     "output_type": "display_data"
    }
   ],
   "source": [
    "warehouseWidgets.getWarehousePartsAPI(warehouseWidgets.warehouse_selection.value)\n",
    "warehouseWidgets.warehouse_selection.observe(warehouseWidgets.on_selection_change)\n",
    "display(warehouseWidgets.warehouse_selection)\n",
    "display(warehouseWidgets.output_area)"
   ]
  },
  {
   "cell_type": "code",
   "execution_count": 60,
   "metadata": {},
   "outputs": [],
   "source": [
    "# display(warehouseWidgets.warehouses_options_dropdown)"
   ]
  },
  {
   "cell_type": "code",
   "execution_count": 61,
   "metadata": {},
   "outputs": [],
   "source": [
    "# warehouseWidgets.displayNextWarehouse(_)"
   ]
  },
  {
   "cell_type": "code",
   "execution_count": 62,
   "metadata": {},
   "outputs": [],
   "source": [
    "# # Attach the function to the button's click event\n",
    "# button = warehouseWidgets.next_warehouse_button\n",
    "# button.on_click(warehouseWidgets.displayNextWarehouse)\n",
    "\n",
    "# # Display the widgets\n",
    "# display(warehouseWidgets.output_area)\n",
    "# display(button)"
   ]
  },
  {
   "cell_type": "markdown",
   "metadata": {
    "collapsed": false
   },
   "source": [
    "### Select supplier to search the parts it supplies"
   ]
  },
  {
   "cell_type": "code",
   "execution_count": 63,
   "metadata": {
    "collapsed": false
   },
   "outputs": [],
   "source": [
    "suppliedPartsWidgets = SuppliedPartsWidgets()"
   ]
  },
  {
   "cell_type": "code",
   "execution_count": 64,
   "metadata": {
    "collapsed": false
   },
   "outputs": [
    {
     "data": {
      "application/vnd.jupyter.widget-view+json": {
       "model_id": "93e645e0007b45369477be2981eb493f",
       "version_major": 2,
       "version_minor": 0
      },
      "text/plain": [
       "Dropdown(description='Select sid:', options=(1, 2, 3, 4, 5, 6, 7), value=1)"
      ]
     },
     "metadata": {},
     "output_type": "display_data"
    },
    {
     "data": {
      "application/vnd.jupyter.widget-view+json": {
       "model_id": "0c75870937ff44ddae468947da4aef59",
       "version_major": 2,
       "version_minor": 0
      },
      "text/plain": [
       "Output()"
      ]
     },
     "metadata": {},
     "output_type": "display_data"
    }
   ],
   "source": [
    "suppliedPartsWidgets.getSuppliedPartsAPI(suppliedPartsWidgets.supplier_selection.value)\n",
    "suppliedPartsWidgets.supplier_selection.observe(suppliedPartsWidgets.on_selection_change)\n",
    "display(suppliedPartsWidgets.supplier_selection)\n",
    "display(suppliedPartsWidgets.output_area)"
   ]
  },
  {
   "cell_type": "markdown",
   "metadata": {},
   "source": [
    "# Transactions"
   ]
  },
  {
   "cell_type": "code",
   "execution_count": 93,
   "metadata": {},
   "outputs": [],
   "source": [
    "class TransactionWidgets:\n",
    "    def __init__(self):\n",
    "        self.output_area = widgets.Output()\n",
    "        self.available_warehouses = self.getAvailableWarehouses()\n",
    "        self.warehouses = self.getAllWarehouses()\n",
    "        self.current_warehouse_index = 0\n",
    "        self.all_transactions_df = pd.DataFrame()\n",
    "       \n",
    "        self.warehouse_options_dropdown = widgets.Select(\n",
    "            options=['All Warehouses info', 'All transactions in this warehouse'],\n",
    "            value='All Warehouses info',\n",
    "            description='Search for:',\n",
    "            rows=2,\n",
    "        )\n",
    "\n",
    "        self.warehouse_selection = widgets.Dropdown(\n",
    "            options=self.available_warehouses,\n",
    "            value=self.available_warehouses[0],\n",
    "            description=\"Select sid:\"\n",
    "        )\n",
    "        \n",
    "        self.warehouse_selection.observe(self.on_selection_change)\n",
    "        \n",
    "        self.next_warehouse_button = widgets.Button(\n",
    "            description=\"Next Warehouse\",\n",
    "            icon='check'\n",
    "        )\n",
    "        \n",
    "\n",
    "    def getAvailableWarehouses(self):\n",
    "        \"\"\"\n",
    "        Return all IDs of the warehouses in the DB\n",
    "        \"\"\"\n",
    "        response = requests.get(f'{backend}{\"warehouse\"}')\n",
    "        # List to store all available sid's.\n",
    "        wids = []\n",
    "        # Check if response was succesful.\n",
    "        if response.status_code == 200:\n",
    "            # Parse JSON Data from response.\n",
    "            data = response.json()\n",
    "            for record in data['Warehouses']:\n",
    "                wids.append(record['wid'])\n",
    "        else:\n",
    "            print('Error {}: Could not get data from the backend.'.format(response.status_code))\n",
    "        return sorted(wids)\n",
    "\n",
    "    \n",
    "    def getAllWarehouses(self):\n",
    "        \"\"\"\n",
    "        Return all suppliers in the Data Base.\n",
    "        \"\"\"\n",
    "        response = requests.get(f'{backend}{\"warehouse\"}')\n",
    "        # Check if response was succesful.\n",
    "        if response.status_code == 200:\n",
    "            # Parse JSON Data from response.\n",
    "            data = response.json()\n",
    "            return data\n",
    "        print(f'Error {response.status_code}: Could not get data from the backend.')\n",
    "        return {}\n",
    "                \n",
    "    def getTransactionsPerWarehouseAPI(self, selected_warehouse):\n",
    "        endpoint = f'transaction'\n",
    "        response = requests.put(f'{backend}{endpoint}', data=json.dumps({\"wid\": selected_warehouse}), headers={\"Content-Type\": \"application/json\"})\n",
    "        with self.output_area:\n",
    "            clear_output(wait=True)  # Clear the previous output\n",
    "            if response.status_code == 200: \n",
    "                data = response.json()\n",
    "                supplied_parts_df = pd.DataFrame(data[\"Result\"])\n",
    "                display(supplied_parts_df)\n",
    "            elif response.status_code == 404:\n",
    "                print('Error {}: Warehouse does not have any transactions'.format(response.status_code))\n",
    "            else:\n",
    "                print(f'{backend}{endpoint}')\n",
    "                print('Error {}: Could not get data from the backend.'.format(response.status_code))\n",
    "                \n",
    "    def on_selection_change(self,change):\n",
    "        if isinstance(change, int):\n",
    "            # Directly received the selected value, not an event dictionary\n",
    "            selected_warehouse = change\n",
    "        elif change['type'] == 'change' and change['name'] == 'value':\n",
    "            # Received an event dictionary, extract the selected value\n",
    "            selected_warehouse    = change['new']\n",
    "        else:\n",
    "            # Invalid change, do nothing\n",
    "            return\n",
    "        self.getTransactionsPerWarehouseAPI(selected_warehouse)\n"
   ]
  },
  {
   "cell_type": "code",
   "execution_count": 97,
   "metadata": {},
   "outputs": [
    {
     "data": {
      "application/vnd.jupyter.widget-view+json": {
       "model_id": "d1056c6a46534c85ad779679675c18b2",
       "version_major": 2,
       "version_minor": 0
      },
      "text/plain": [
       "Dropdown(description='Select sid:', options=(1, 2, 3, 4, 5, 6, 7, 8, 9, 10, 11, 12, 13, 14), value=1)"
      ]
     },
     "metadata": {},
     "output_type": "display_data"
    },
    {
     "data": {
      "application/vnd.jupyter.widget-view+json": {
       "model_id": "8c02f60a2c3b4eabb686fed382a5d72d",
       "version_major": 2,
       "version_minor": 0
      },
      "text/plain": [
       "Output()"
      ]
     },
     "metadata": {},
     "output_type": "display_data"
    }
   ],
   "source": [
    "transactionWidget = TransactionWidgets()\n",
    "transactionWidget.getTransactionsPerWarehouseAPI(transactionWidget.warehouse_selection.value)\n",
    "transactionWidget.warehouse_selection.observe(transactionWidget.on_selection_change)\n",
    "display(transactionWidget.warehouse_selection)\n",
    "display(transactionWidget.output_area)"
   ]
  }
 ],
 "metadata": {
  "kernelspec": {
   "display_name": "sqlytes",
   "language": "python",
   "name": "python3"
  },
  "language_info": {
   "codemirror_mode": {
    "name": "ipython",
    "version": 3
   },
   "file_extension": ".py",
   "mimetype": "text/x-python",
   "name": "python",
   "nbconvert_exporter": "python",
   "pygments_lexer": "ipython3",
   "version": "3.10.10"
  }
 },
 "nbformat": 4,
 "nbformat_minor": 2
}
