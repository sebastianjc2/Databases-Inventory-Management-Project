{
 "cells": [
  {
   "cell_type": "code",
   "execution_count": 206,
   "metadata": {},
   "outputs": [],
   "source": [
    "import ipyvuetify as v\n",
    "import ipywidgets as widgets\n",
    "import pandas as pd\n",
    "import numpy as np\n",
    "import matplotlib.pyplot as plt\n",
    "import requests\n",
    "from IPython.display import display, clear_output"
   ]
  },
  {
   "cell_type": "markdown",
   "metadata": {},
   "source": [
    "### SQLytes Inventory Tracking\n",
    "\n"
   ]
  },
  {
   "cell_type": "code",
   "execution_count": 207,
   "metadata": {},
   "outputs": [],
   "source": [
    "# URL for localhost backend when using Docker.\n",
    "backend = 'http://127.0.0.1:5000/sqlytes/'\n",
    "# warehouse endpoint\n",
    "endpoint = '/warehouse'"
   ]
  },
  {
   "cell_type": "code",
   "execution_count": 208,
   "metadata": {},
   "outputs": [],
   "source": [
    "def getAvailableWarehouses():\n",
    "    \"\"\"Return all IDs of the warehouses in the Data Base.\"\"\"\n",
    "    response = requests.get(f'{backend}{\"warehouse\"}')\n",
    "    # List to store all available wid's.\n",
    "    wids = []\n",
    "    # Check if response was succesful.\n",
    "    if response.status_code == 200:\n",
    "        # Parse JSON Data from response.\n",
    "        data = response.json()\n",
    "        for record in data['Warehouses']:\n",
    "            wids.append(record['wid'])\n",
    "    else:\n",
    "        print('Error {}: Could not get data from the backend.'.format(response.status_code))\n",
    "    return wids"
   ]
  },
  {
   "cell_type": "code",
   "execution_count": 209,
   "metadata": {},
   "outputs": [],
   "source": [
    "available_warehouses = getAvailableWarehouses()"
   ]
  },
  {
   "cell_type": "code",
   "execution_count": 210,
   "metadata": {},
   "outputs": [],
   "source": [
    "# print(\"Available Warehouse IDs: \",getAvailableWarehouses())"
   ]
  },
  {
   "cell_type": "markdown",
   "metadata": {},
   "source": [
    "### Choose a Warehouse ID to get all Parts from."
   ]
  },
  {
   "cell_type": "code",
   "execution_count": 211,
   "metadata": {},
   "outputs": [
    {
     "name": "stdout",
     "output_type": "stream",
     "text": [
      "Selected Warehouse: 3\n"
     ]
    },
    {
     "name": "stdout",
     "output_type": "stream",
     "text": [
      "Selected Warehouse: 6\n"
     ]
    },
    {
     "name": "stdout",
     "output_type": "stream",
     "text": [
      "Selected Warehouse: 8\n"
     ]
    },
    {
     "name": "stdout",
     "output_type": "stream",
     "text": [
      "Selected Warehouse: 11\n"
     ]
    }
   ],
   "source": [
    "selection = widgets.Dropdown(\n",
    "    options = available_warehouses,\n",
    "    value = available_warehouses[0],\n",
    "    description=\"wid\"\n",
    ")"
   ]
  },
  {
   "cell_type": "code",
   "execution_count": 212,
   "metadata": {},
   "outputs": [],
   "source": [
    "output_area = widgets.Output()"
   ]
  },
  {
   "cell_type": "code",
   "execution_count": 213,
   "metadata": {},
   "outputs": [],
   "source": [
    "def getWarehousePartsAPI(selected_warehouse):\n",
    "    \"\"\"Obtain all Parts for a warehouse.\n",
    "\n",
    "    Args:\n",
    "        wid (int): ID of the warehouse of which the parts are going to be showed.\n",
    "        endpoint (str): Endpoint to be connected to the backend route to obtain the data.\n",
    "    \"\"\"\n",
    "    endpoint = f'warehouse/{selected_warehouse}/parts'\n",
    "    response = requests.get(f'{backend}{endpoint}')\n",
    "    with output_area:\n",
    "        clear_output(wait=True)  # Clear the previous output\n",
    "        if response.status_code == 200:\n",
    "            data = response.json()\n",
    "            all_parts_df = pd.DataFrame(data[\"WarehouseParts\"])\n",
    "            display(all_parts_df)\n",
    "        elif response.status_code == 404:\n",
    "            print('Error {}: Warehouse has no parts'.format(response.status_code))\n",
    "        else:\n",
    "            print(f'{backend}{endpoint}')\n",
    "            print('Error {}: Could not get data from the backend.'.format(response.status_code))"
   ]
  },
  {
   "cell_type": "code",
   "execution_count": 214,
   "metadata": {},
   "outputs": [],
   "source": [
    "# getWarehousePartsAPI(selection.value)"
   ]
  },
  {
   "cell_type": "code",
   "execution_count": 215,
   "metadata": {},
   "outputs": [],
   "source": [
    "def on_selection_change(change):\n",
    "    if isinstance(change, int):\n",
    "        # Directly received the selected value, not an event dictionary\n",
    "        selected_warehouse = change\n",
    "    elif change['type'] == 'change' and change['name'] == 'value':\n",
    "        # Received an event dictionary, extract the selected value\n",
    "        selected_warehouse = change['new']\n",
    "    else:\n",
    "        # Invalid change, do nothing\n",
    "        return\n",
    "\n",
    "    print(f\"Selected Warehouse: {selected_warehouse}\")\n",
    "    getWarehousePartsAPI(selected_warehouse)"
   ]
  },
  {
   "cell_type": "code",
   "execution_count": 216,
   "metadata": {},
   "outputs": [
    {
     "name": "stdout",
     "output_type": "stream",
     "text": [
      "Selected Warehouse: 2\n"
     ]
    }
   ],
   "source": [
    "# Trigger on_selection_change with the default value\n",
    "on_selection_change(selection.value)"
   ]
  },
  {
   "cell_type": "code",
   "execution_count": 217,
   "metadata": {},
   "outputs": [
    {
     "data": {
      "application/vnd.jupyter.widget-view+json": {
       "model_id": "dfca6a2fb48f400e950804e94289cfe8",
       "version_major": 2,
       "version_minor": 0
      },
      "text/plain": [
       "Dropdown(description='wid', options=(2, 3, 4, 5, 6, 7, 8, 10, 11, 12, 13, 15, 9, 1), value=2)"
      ]
     },
     "metadata": {},
     "output_type": "display_data"
    },
    {
     "data": {
      "application/vnd.jupyter.widget-view+json": {
       "model_id": "3c009a5735694a3abc32b5250e19440b",
       "version_major": 2,
       "version_minor": 0
      },
      "text/plain": [
       "Output(outputs=({'output_type': 'display_data', 'data': {'text/plain': '    Color Material         Name  id   …"
      ]
     },
     "metadata": {},
     "output_type": "display_data"
    }
   ],
   "source": [
    "# Attach the function to the widget's value change event\n",
    "selection.observe(on_selection_change)\n",
    "display(selection)\n",
    "display(output_area)"
   ]
  }
 ],
 "metadata": {
  "kernelspec": {
   "display_name": "sqlytes",
   "language": "python",
   "name": "python3"
  },
  "language_info": {
   "codemirror_mode": {
    "name": "ipython",
    "version": 3
   },
   "file_extension": ".py",
   "mimetype": "text/x-python",
   "name": "python",
   "nbconvert_exporter": "python",
   "pygments_lexer": "ipython3",
   "version": "3.10.13"
  }
 },
 "nbformat": 4,
 "nbformat_minor": 2
}
